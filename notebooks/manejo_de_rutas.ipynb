{
 "cells": [
  {
   "cell_type": "markdown",
   "metadata": {},
   "source": [
    "# Aprendiendo el manejo de rutas: librería OS"
   ]
  },
  {
   "cell_type": "markdown",
   "metadata": {},
   "source": [
    "El problema que se quiere atacar es el manejo de rutas en **diferentes sistemas operativos**, ya que el como se acceden a carpetas y archivos difiere entre sistemas operativos. Un caso notorio es la diferencia **entre Linux y Windows**:\n",
    "\n",
    "*  **Linux**: /home/usuario/archivo.txt\n",
    "*  **Windows**: C:\\Users\\usuario\\archivo.txt\n",
    "\n",
    "Se puede ver la diferencia en **como se usan las barras**, dicho problema lo viene a solucionar el uso de **OS**."
   ]
  },
  {
   "cell_type": "markdown",
   "metadata": {},
   "source": [
    "La meta va a ser poder acceder a la carpeta **raw** de **data** sin importar el sistema operativo:"
   ]
  },
  {
   "cell_type": "code",
   "execution_count": 1,
   "metadata": {},
   "outputs": [
    {
     "name": "stdout",
     "output_type": "stream",
     "text": [
      "/home/gerardo19/prueba1/notebooks\n"
     ]
    }
   ],
   "source": [
    "import os \n",
    "\n",
    "directorio_actual = os.getcwd()\n",
    "\n",
    "print(directorio_actual)"
   ]
  },
  {
   "cell_type": "markdown",
   "metadata": {},
   "source": [
    "En este caso me encuentro en la carpeta que contiene a los notebooks, lo siguiente sería moverme hacía data:"
   ]
  },
  {
   "cell_type": "code",
   "execution_count": 2,
   "metadata": {},
   "outputs": [
    {
     "data": {
      "text/plain": [
       "'/home/gerardo19/prueba1/notebooks/../data/raw'"
      ]
     },
     "execution_count": 2,
     "metadata": {},
     "output_type": "execute_result"
    }
   ],
   "source": [
    "#De esta forma usando os.pardir subo un directorio (pardir hace referencia a directorio padre)\n",
    "os.path.join(directorio_actual, os.pardir)\n",
    "\n",
    "#Ahora accedo a data\n",
    "os.path.join(directorio_actual, os.pardir,'data')\n",
    "\n",
    "#Y ahora accedo a raw juntando todo\n",
    "os.path.join(directorio_actual, os.pardir,'data','raw')"
   ]
  },
  {
   "cell_type": "markdown",
   "metadata": {},
   "source": [
    "Ahora voy a verificar que lo que se hizo funciona:"
   ]
  },
  {
   "cell_type": "code",
   "execution_count": 3,
   "metadata": {},
   "outputs": [
    {
     "data": {
      "text/plain": [
       "True"
      ]
     },
     "execution_count": 3,
     "metadata": {},
     "output_type": "execute_result"
    }
   ],
   "source": [
    "directorio_objetivo = os.path.join(directorio_actual, os.pardir,'data','raw')\n",
    "\n",
    "os.path.exists(directorio_objetivo)"
   ]
  },
  {
   "cell_type": "markdown",
   "metadata": {},
   "source": [
    "También se puede verificar a que apunta la dirección:"
   ]
  },
  {
   "cell_type": "code",
   "execution_count": 4,
   "metadata": {},
   "outputs": [
    {
     "data": {
      "text/plain": [
       "True"
      ]
     },
     "execution_count": 4,
     "metadata": {},
     "output_type": "execute_result"
    }
   ],
   "source": [
    "os.path.isdir(directorio_objetivo)"
   ]
  },
  {
   "cell_type": "markdown",
   "metadata": {},
   "source": [
    "Si quiero iterar sobre una direacción para ver las direcciones que están dentro de esa:"
   ]
  },
  {
   "cell_type": "code",
   "execution_count": 5,
   "metadata": {},
   "outputs": [
    {
     "data": {
      "text/plain": [
       "['/home/gerardo19/prueba1/notebooks/../environment.yml',\n",
       " '/home/gerardo19/prueba1/notebooks/../.git',\n",
       " '/home/gerardo19/prueba1/notebooks/../data',\n",
       " '/home/gerardo19/prueba1/notebooks/../notebooks',\n",
       " '/home/gerardo19/prueba1/notebooks/../.gitignore',\n",
       " '/home/gerardo19/prueba1/notebooks/../README.md']"
      ]
     },
     "execution_count": 5,
     "metadata": {},
     "output_type": "execute_result"
    }
   ],
   "source": [
    "#Tomo un directorio con varios hijos\n",
    "directorio_ejemplo = os.path.join(directorio_actual, os.pardir)\n",
    "\n",
    "[os.path.join(directorio_ejemplo, item) for item in os.listdir(directorio_ejemplo)]"
   ]
  }
 ],
 "metadata": {
  "kernelspec": {
   "display_name": "AmbientePrueba1",
   "language": "python",
   "name": "python3"
  },
  "language_info": {
   "codemirror_mode": {
    "name": "ipython",
    "version": 3
   },
   "file_extension": ".py",
   "mimetype": "text/x-python",
   "name": "python",
   "nbconvert_exporter": "python",
   "pygments_lexer": "ipython3",
   "version": "3.12.2"
  }
 },
 "nbformat": 4,
 "nbformat_minor": 2
}
