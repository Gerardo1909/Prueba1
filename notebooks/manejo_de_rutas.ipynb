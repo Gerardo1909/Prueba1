{
 "cells": [
  {
   "cell_type": "markdown",
   "metadata": {},
   "source": [
    "# Aprendiendo del manejo de rutas: **librería OS**"
   ]
  },
  {
   "cell_type": "markdown",
   "metadata": {},
   "source": [
    "El problema que se quiere atacar es el manejo de rutas en **diferentes sistemas operativos**, ya que el como se acceden a carpetas y archivos difiere entre sistemas operativos. Un caso notorio es la diferencia **entre Linux y Windows**:\n",
    "\n",
    "*  **Linux**: /home/usuario/archivo.txt\n",
    "*  **Windows**: C:\\Users\\usuario\\archivo.txt\n",
    "\n",
    "Se puede ver la diferencia en **como se usan las barras**, dicho problema lo viene a solucionar el uso de **OS**."
   ]
  },
  {
   "cell_type": "markdown",
   "metadata": {},
   "source": [
    "La meta va a ser poder acceder a la carpeta **raw** de **data** sin importar el sistema operativo:"
   ]
  },
  {
   "cell_type": "code",
   "execution_count": 1,
   "metadata": {},
   "outputs": [
    {
     "name": "stdout",
     "output_type": "stream",
     "text": [
      "/home/gerardo19/manejo_archivos/notebooks\n"
     ]
    }
   ],
   "source": [
    "import os \n",
    "\n",
    "directorio_actual = os.getcwd()\n",
    "\n",
    "print(directorio_actual)"
   ]
  },
  {
   "cell_type": "markdown",
   "metadata": {},
   "source": [
    "En este caso me encuentro en la carpeta que contiene a los notebooks, lo siguiente sería moverme hacía data:"
   ]
  },
  {
   "cell_type": "code",
   "execution_count": 2,
   "metadata": {},
   "outputs": [
    {
     "data": {
      "text/plain": [
       "'/home/gerardo19/manejo_archivos/notebooks/../data/raw'"
      ]
     },
     "execution_count": 2,
     "metadata": {},
     "output_type": "execute_result"
    }
   ],
   "source": [
    "#De esta forma usando os.pardir subo un directorio (pardir hace referencia a directorio padre)\n",
    "os.path.join(directorio_actual, os.pardir)\n",
    "\n",
    "#Ahora accedo a data\n",
    "os.path.join(directorio_actual, os.pardir,'data')\n",
    "\n",
    "#Y ahora accedo a raw juntando todo\n",
    "os.path.join(directorio_actual, os.pardir,'data','raw')"
   ]
  },
  {
   "cell_type": "markdown",
   "metadata": {},
   "source": [
    "Ahora voy a verificar que lo que se hizo funciona:"
   ]
  },
  {
   "cell_type": "code",
   "execution_count": 3,
   "metadata": {},
   "outputs": [
    {
     "data": {
      "text/plain": [
       "True"
      ]
     },
     "execution_count": 3,
     "metadata": {},
     "output_type": "execute_result"
    }
   ],
   "source": [
    "directorio_objetivo = os.path.join(directorio_actual, os.pardir,'data','raw')\n",
    "\n",
    "os.path.exists(directorio_objetivo)"
   ]
  },
  {
   "cell_type": "markdown",
   "metadata": {},
   "source": [
    "También se puede verificar a que apunta la dirección:"
   ]
  },
  {
   "cell_type": "code",
   "execution_count": 4,
   "metadata": {},
   "outputs": [
    {
     "data": {
      "text/plain": [
       "True"
      ]
     },
     "execution_count": 4,
     "metadata": {},
     "output_type": "execute_result"
    }
   ],
   "source": [
    "os.path.isdir(directorio_objetivo)"
   ]
  },
  {
   "cell_type": "markdown",
   "metadata": {},
   "source": [
    "Si quiero iterar sobre una direacción para ver las direcciones que están dentro de esa:"
   ]
  },
  {
   "cell_type": "code",
   "execution_count": 5,
   "metadata": {},
   "outputs": [
    {
     "data": {
      "text/plain": [
       "['/home/gerardo19/manejo_archivos/notebooks/../environment.yml',\n",
       " '/home/gerardo19/manejo_archivos/notebooks/../.git',\n",
       " '/home/gerardo19/manejo_archivos/notebooks/../data',\n",
       " '/home/gerardo19/manejo_archivos/notebooks/../notebooks',\n",
       " '/home/gerardo19/manejo_archivos/notebooks/../.gitignore',\n",
       " '/home/gerardo19/manejo_archivos/notebooks/../README.md']"
      ]
     },
     "execution_count": 5,
     "metadata": {},
     "output_type": "execute_result"
    }
   ],
   "source": [
    "#Tomo un directorio con varios hijos\n",
    "directorio_ejemplo = os.path.join(directorio_actual, os.pardir)\n",
    "\n",
    "[os.path.join(directorio_ejemplo, item) for item in os.listdir(directorio_ejemplo)]"
   ]
  },
  {
   "cell_type": "markdown",
   "metadata": {},
   "source": [
    "# Aprendiendo del manejo de rutas: **librería Pathlib**"
   ]
  },
  {
   "cell_type": "markdown",
   "metadata": {},
   "source": [
    "**Pathlib** al igual que **os** ofrece una fácil manejo de rutas independientemente del sistema operativo. Paso a probarlo:"
   ]
  },
  {
   "cell_type": "code",
   "execution_count": 6,
   "metadata": {},
   "outputs": [
    {
     "name": "stdout",
     "output_type": "stream",
     "text": [
      "/home/gerardo19/manejo_archivos/notebooks\n"
     ]
    }
   ],
   "source": [
    "import pathlib\n",
    "\n",
    "directorio_actual = pathlib.Path().resolve()\n",
    "\n",
    "print(directorio_actual)"
   ]
  },
  {
   "cell_type": "markdown",
   "metadata": {},
   "source": [
    "En este caso guarde el directorio actual de trabajo, pero voy a describir un poco que hice:\n",
    "\n",
    "* De la librería **pathlib** usé el método **\"Path()\"** el cual al invocarlo tal cual me devuelve un **\".\"** , lo cual en linux\n",
    "representa al **directorio actual**\n",
    "* Luego usé el método **resolve()** el cual se encarga de darle una **interpretación** a ese punto que devuelve el método \n",
    "anterior"
   ]
  },
  {
   "cell_type": "markdown",
   "metadata": {},
   "source": [
    "Ahora si me quiero ir un directorio arriba:"
   ]
  },
  {
   "cell_type": "code",
   "execution_count": 7,
   "metadata": {},
   "outputs": [
    {
     "data": {
      "text/plain": [
       "PosixPath('/home/gerardo19/manejo_archivos')"
      ]
     },
     "execution_count": 7,
     "metadata": {},
     "output_type": "execute_result"
    }
   ],
   "source": [
    "directorio_actual.parent"
   ]
  },
  {
   "cell_type": "markdown",
   "metadata": {},
   "source": [
    "Y si quiero lograr llegar de vuelta a la carpeta **raw**:"
   ]
  },
  {
   "cell_type": "code",
   "execution_count": 8,
   "metadata": {},
   "outputs": [
    {
     "data": {
      "text/plain": [
       "PosixPath('/home/gerardo19/manejo_archivos/data/raw')"
      ]
     },
     "execution_count": 8,
     "metadata": {},
     "output_type": "execute_result"
    }
   ],
   "source": [
    "directorio_actual.parent.joinpath(\"data\",\"raw\")"
   ]
  },
  {
   "cell_type": "markdown",
   "metadata": {},
   "source": [
    "Es importante destacar una diferencia notable entre las últimas líneas de código. Mientras que en la librería **pathlib** se accede a la carpeta padre a través de un atributo del objeto mismo, en el caso de **os**, se utiliza el método **'os.pardir'** para lograrlo."
   ]
  },
  {
   "cell_type": "markdown",
   "metadata": {},
   "source": [
    "Como última cosa, voy a crear un directorio nuevo:"
   ]
  },
  {
   "cell_type": "code",
   "execution_count": 13,
   "metadata": {},
   "outputs": [],
   "source": [
    "directorio_actual.parent.joinpath(\"Cositas\").mkdir()"
   ]
  }
 ],
 "metadata": {
  "kernelspec": {
   "display_name": "AmbientePrueba1",
   "language": "python",
   "name": "python3"
  },
  "language_info": {
   "codemirror_mode": {
    "name": "ipython",
    "version": 3
   },
   "file_extension": ".py",
   "mimetype": "text/x-python",
   "name": "python",
   "nbconvert_exporter": "python",
   "pygments_lexer": "ipython3",
   "version": "3.12.2"
  }
 },
 "nbformat": 4,
 "nbformat_minor": 2
}
